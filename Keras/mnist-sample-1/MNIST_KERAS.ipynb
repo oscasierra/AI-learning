{
 "cells": [
  {
   "cell_type": "markdown",
   "metadata": {},
   "source": [
    "# Keras で MNIST データの学習を試してみよう\n",
    "\n",
    "人工知能・機械学習を学習する際に、チュートリアルとして頻繁に利用されるデータに **MNIST** のデータがあります。 手書きの数字を白黒画像にしたデータで、「手書きの数字を認識できる人工知能を作る」というチュートリアルに良く利用されます。 ここでは人工知能ライブラリ **Keras** で MNIST データを学習させ、手書き数字を認識できる人工知能を作ります。"
   ]
  },
  {
   "cell_type": "markdown",
   "metadata": {},
   "source": [
    "## どのような人工知能を作るのか？\n",
    "まずは、どのような人工知能を作ろうとしているのかを整理してみましょう。\n",
    "\n",
    "### 実現したいこと (作成する人工知能の能力)\n",
    "今回利用する MNIST のデータは、(1)次のような手書きの 0 〜 9 の数字が書かれた画像データ と、(2)その画像に書かれた実際の数字データ のペアです。\n",
    "\n",
    "<img src=\"https://weblabo.oscasierra.net/wp-content/uploads/2017/08/python-ai-mnist-data-detail-1.png\" alt=\"MNISTデータ\" style=\"max-width:80%;\">\n",
    "\n",
    "ここで作成する人工知能とは、1つの数字が書かれた1つの画像データを人工知能に入力した際に、その画像になんの数字が書かれているのかを分類できる人工知能です。\n",
    "\n",
    "### 入力データ\n",
    "前述の通り、入力データは1つの数字が書かれた画像データです。 MNISTの画像1つは 28×28 ピクセル(＝784ピクセル)の大きさです。 1ピクセルごとに「白」〜「黒」までの色情報が記録されています。 1つの画像の全てのピクセルの情報を人工知能の入力としますので、入力の数は784個になります。\n",
    "\n",
    "### 出力データ\n",
    "画像データを入力された人工知能は、どの数字の画像なのかを考えたあとに、「0」〜「9」までの数字毎にその確率を出力します。 例えば次の表のようなイメージです。 次の表の例だと「3」の確率が一番高いので、人工知能が「3」だと判断したことになります。 このように数字ごとに確率を出力するので、出力の数は10個になります。\n",
    "\n",
    "| 数字 | 確率  |\n",
    "|:----|:------|\n",
    "| 0   | 0.014 |\n",
    "| 1   | 0.001 |\n",
    "| 2   | 0.013 |\n",
    "| 3   | 9.703 |\n",
    "| 4   | 0.034 |\n",
    "| 5   | 0.016 |\n",
    "| 6   | 0.023 |\n",
    "| 7   | 0.065 |\n",
    "| 8   | 0.086 |\n",
    "| 9   | 0.029 |\n",
    "\n"
   ]
  },
  {
   "cell_type": "markdown",
   "metadata": {},
   "source": [
    "## 利用するライブラリのインポート\n",
    "まずは、今回のプログラムで利用するライブラリを読み込みます。 すべて Keras のライブラリです。"
   ]
  },
  {
   "cell_type": "code",
   "execution_count": 1,
   "metadata": {},
   "outputs": [
    {
     "name": "stderr",
     "output_type": "stream",
     "text": [
      "Using TensorFlow backend.\n"
     ]
    }
   ],
   "source": [
    "import keras\n",
    "from keras.datasets import mnist\n",
    "from keras.models import Sequential\n",
    "from keras.layers import Dense, Dropout, InputLayer\n",
    "from keras.optimizers import RMSprop\n",
    "\n",
    "import matplotlib.pyplot as plt"
   ]
  },
  {
   "cell_type": "markdown",
   "metadata": {},
   "source": [
    "## MNISTデータの準備\n",
    "人工知能に学習させる MNIST データを準備します。 MNIST データは、学習用のデータを 60,000 個、検証用のデータを 10,000 個提供してくれています。"
   ]
  },
  {
   "cell_type": "markdown",
   "metadata": {},
   "source": [
    "### MNISTデータの読込み\n",
    "まずは MNIST データをプログラムから読込みます。 Keras がチュートリアル用に読込み関数を用意してくれているので、 mnist.load_data() 関数を呼び出すだけです。 この関数はコンピュータ内に MNIST データがない場合はインターネットからダウンロードすることもやってくれるので、あらかじめ手元に MNIST データを用意するようなことは必要ありません。\n",
    "MNIST データを読み込んだあとに、データが格納されたそれぞれの配列の形(shape)を出力してみると次のようになります。"
   ]
  },
  {
   "cell_type": "code",
   "execution_count": 2,
   "metadata": {},
   "outputs": [
    {
     "name": "stdout",
     "output_type": "stream",
     "text": [
      "x_train.shape(学習用の画像データ) :  (60000, 28, 28)\n",
      "y_train_shape(学習用の正解データ) :  (60000,)\n",
      "x_test.shape(検証用の画像データ) :  (10000, 28, 28)\n",
      "y_test.shape(検証用の正解データ) :  (10000,)\n"
     ]
    }
   ],
   "source": [
    "(x_train, y_train), (x_test, y_test) = mnist.load_data()\n",
    "print(\"x_train.shape(学習用の画像データ) : \", x_train.shape)\n",
    "print(\"y_train_shape(学習用の正解データ) : \", y_train.shape)\n",
    "print(\"x_test.shape(検証用の画像データ) : \", x_test.shape)\n",
    "print(\"y_test.shape(検証用の正解データ) : \", y_test.shape)"
   ]
  },
  {
   "cell_type": "markdown",
   "metadata": {},
   "source": [
    "### 入力データの加工\n",
    "この時点では 60,000 個の画像が、それぞれ 28×28 の二次元で表現されています。 前述の通り、入力となる画像の情報は784個になるようにしたいので、1次元になるように変形させます。"
   ]
  },
  {
   "cell_type": "code",
   "execution_count": 3,
   "metadata": {},
   "outputs": [
    {
     "name": "stdout",
     "output_type": "stream",
     "text": [
      "x_train.shape(学習用の画像データ) :  (60000, 784)\n",
      "y_train_shape(学習用の正解データ) :  (60000,)\n",
      "x_test.shape(検証用の画像データ) :  (10000, 784)\n",
      "y_test.shape(検証用の正解データ) :  (10000,)\n"
     ]
    }
   ],
   "source": [
    "x_train  = x_train.reshape(60000, 784)\n",
    "x_test   = x_test.reshape(10000, 784)\n",
    "print(\"x_train.shape(学習用の画像データ) : \", x_train.shape)\n",
    "print(\"y_train_shape(学習用の正解データ) : \", y_train.shape)\n",
    "print(\"x_test.shape(検証用の画像データ) : \", x_test.shape)\n",
    "print(\"y_test.shape(検証用の正解データ) : \", y_test.shape)"
   ]
  },
  {
   "cell_type": "markdown",
   "metadata": {},
   "source": [
    "また、MNIST のピクセルの情報は、0〜255 の数値で提供されており、0 が白、255に近くにつれて黒になるような数字になっています。 数値計算の都合上、入力を 0〜1の範囲の数値にした方が良いため、データ型を float に変換したのち、255 で割ります。"
   ]
  },
  {
   "cell_type": "code",
   "execution_count": 4,
   "metadata": {},
   "outputs": [],
   "source": [
    "# データを float 型に変換\n",
    "x_train = x_train.astype('float32')\n",
    "x_test  = x_test.astype('float32')\n",
    "\n",
    "# 0〜255 までの範囲のデータを 0〜1 までの範囲に変更\n",
    "x_train /= 255\n",
    "x_test  /= 255"
   ]
  },
  {
   "cell_type": "markdown",
   "metadata": {},
   "source": [
    "### 正解データの加工\n",
    "次に正解データを加工します。 MNIST の正解データは、対となる画像に何の数字が書かれているかを表す「0」〜「9」の数字を提供してくれています。 しかし、ここで作成する人工知能は前述の通り出力が10個の確率になりますので、今のままでは比較が難しいです。 そこで「0」〜「9」までの数字の形を変換します。 どのように変換するのかといえば、例えば「4」という数字であれば [0,0,0,0,1,0,0,0,0,0] というような、「4」を表す値だけが「1」となるような1次元配列にするのです。"
   ]
  },
  {
   "cell_type": "code",
   "execution_count": 5,
   "metadata": {},
   "outputs": [],
   "source": [
    "y_train = keras.utils.to_categorical(y_train, 10)\n",
    "y_test  = keras.utils.to_categorical(y_test, 10)"
   ]
  },
  {
   "cell_type": "markdown",
   "metadata": {},
   "source": [
    "### データ加工後の最終状態\n",
    "ここまでで、MNIST のデータを今回作成する人工知能が学習をしやすい形に変換してきました。 最終的には次のようになりました。\n",
    "\n",
    "- 学習用の画像データ : 画像1つ分の情報を人工知能に与えられるように、長さが784の1次元配列に整形した。 それが 60,000個の画像分ある。\n",
    "- 学習用の正解データ : 人工知能の出力は「0」〜「9」の数字毎に確率が算出されるため、それに合わせて「0」〜「9」の数字を長さ10の一次元配列に整形した。 それが画像データと対になるように 60,000個ある。\n",
    "- 検証用の画像データ : 学習用の画像データと同じように整形。 10,000個の画像分のデータがある。\n",
    "- 検証用の正解データ : 学習用の正解データと同じように整形。 検証用の画像データと対になるように 10,000個ある。"
   ]
  },
  {
   "cell_type": "code",
   "execution_count": 6,
   "metadata": {},
   "outputs": [
    {
     "name": "stdout",
     "output_type": "stream",
     "text": [
      "x_train.shape(学習用の画像データ) :  (60000, 784)\n",
      "y_train_shape(学習用の正解データ) :  (60000, 10)\n",
      "x_test.shape(検証用の画像データ) :  (10000, 784)\n",
      "y_test.shape(検証用の正解データ) :  (10000, 10)\n"
     ]
    }
   ],
   "source": [
    "print(\"x_train.shape(学習用の画像データ) : \", x_train.shape)\n",
    "print(\"y_train_shape(学習用の正解データ) : \", y_train.shape)\n",
    "print(\"x_test.shape(検証用の画像データ) : \", x_test.shape)\n",
    "print(\"y_test.shape(検証用の正解データ) : \", y_test.shape)"
   ]
  },
  {
   "cell_type": "markdown",
   "metadata": {},
   "source": [
    "## モデルの構築\n",
    "さて、ここからがやっと人工知能をつくるパートです。 まずは人工知能のモデルを作成します。 作りたいモデルの仕様は次のようなものです。\n",
    "\n",
    "  1. 入力の数は784個である。 これは画像1つが784ピクセルの大きさであるため。\n",
    "  2. 出力の数は10個である。 与えた画像が、数字「0」〜「9」のどれにあたるかを、それぞれの数字毎に確率を算出させるため。\n",
    "\n",
    "ここでは、次のようにモデルを構築します。"
   ]
  },
  {
   "cell_type": "code",
   "execution_count": 7,
   "metadata": {},
   "outputs": [],
   "source": [
    "# Dense : 第1引数で出力の次元数を指定します。入力の次元数はinput_shapeで指定します(指定しない場合は出力と同じ)\n",
    "model = Sequential()\n",
    "model.add(InputLayer(input_shape=(784,)))\n",
    "model.add(Dense(10, activation='softmax'))\n",
    "\n",
    "# モデルをコンパイルする\n",
    "model.compile(loss='categorical_crossentropy', optimizer='rmsprop', metrics=['accuracy'])"
   ]
  },
  {
   "cell_type": "markdown",
   "metadata": {},
   "source": [
    "## 学習"
   ]
  },
  {
   "cell_type": "markdown",
   "metadata": {},
   "source": [
    "　モデルを作り終えたら、ついに本題の「学習」になります。 学習のフェーズで重要なのは、**学習回数**です。 簡単に例えるなら「1冊の学習ドリルを何回学習したか」みたいな感じです。 人工知能も同じ問題を何度も反復することで賢くなります。 学習用データを何度もモデルに入力することが大切です。"
   ]
  },
  {
   "cell_type": "code",
   "execution_count": 8,
   "metadata": {},
   "outputs": [
    {
     "name": "stdout",
     "output_type": "stream",
     "text": [
      "Train on 60000 samples, validate on 10000 samples\n",
      "Epoch 1/20\n",
      "60000/60000 [==============================] - 2s - loss: 0.6078 - acc: 0.8475 - val_loss: 0.3415 - val_acc: 0.9066\n",
      "Epoch 2/20\n",
      "60000/60000 [==============================] - 1s - loss: 0.3310 - acc: 0.9078 - val_loss: 0.3005 - val_acc: 0.9183\n",
      "Epoch 3/20\n",
      "60000/60000 [==============================] - 1s - loss: 0.3019 - acc: 0.9153 - val_loss: 0.2864 - val_acc: 0.9222\n",
      "Epoch 4/20\n",
      "60000/60000 [==============================] - 1s - loss: 0.2883 - acc: 0.9191 - val_loss: 0.2789 - val_acc: 0.9220\n",
      "Epoch 5/20\n",
      "60000/60000 [==============================] - 1s - loss: 0.2805 - acc: 0.9217 - val_loss: 0.2749 - val_acc: 0.9244\n",
      "Epoch 6/20\n",
      "60000/60000 [==============================] - 1s - loss: 0.2749 - acc: 0.9232 - val_loss: 0.2724 - val_acc: 0.9250\n",
      "Epoch 7/20\n",
      "60000/60000 [==============================] - 1s - loss: 0.2705 - acc: 0.9249 - val_loss: 0.2723 - val_acc: 0.9256\n",
      "Epoch 8/20\n",
      "60000/60000 [==============================] - 1s - loss: 0.2673 - acc: 0.9259 - val_loss: 0.2703 - val_acc: 0.9262\n",
      "Epoch 9/20\n",
      "60000/60000 [==============================] - 1s - loss: 0.2647 - acc: 0.9276 - val_loss: 0.2720 - val_acc: 0.9254\n",
      "Epoch 10/20\n",
      "60000/60000 [==============================] - 1s - loss: 0.2628 - acc: 0.9279 - val_loss: 0.2709 - val_acc: 0.9270\n",
      "Epoch 11/20\n",
      "60000/60000 [==============================] - 1s - loss: 0.2607 - acc: 0.9287 - val_loss: 0.2702 - val_acc: 0.9257\n",
      "Epoch 12/20\n",
      "60000/60000 [==============================] - 1s - loss: 0.2592 - acc: 0.9289 - val_loss: 0.2684 - val_acc: 0.9272\n",
      "Epoch 13/20\n",
      "60000/60000 [==============================] - 1s - loss: 0.2580 - acc: 0.9300 - val_loss: 0.2682 - val_acc: 0.9271\n",
      "Epoch 14/20\n",
      "60000/60000 [==============================] - 1s - loss: 0.2568 - acc: 0.9301 - val_loss: 0.2692 - val_acc: 0.9265\n",
      "Epoch 15/20\n",
      "60000/60000 [==============================] - ETA: 0s - loss: 0.2555 - acc: 0.930 - 1s - loss: 0.2556 - acc: 0.9306 - val_loss: 0.2712 - val_acc: 0.9267\n",
      "Epoch 16/20\n",
      "60000/60000 [==============================] - 1s - loss: 0.2549 - acc: 0.9307 - val_loss: 0.2678 - val_acc: 0.9284\n",
      "Epoch 17/20\n",
      "60000/60000 [==============================] - 1s - loss: 0.2540 - acc: 0.9316 - val_loss: 0.2712 - val_acc: 0.9268\n",
      "Epoch 18/20\n",
      "60000/60000 [==============================] - 1s - loss: 0.2531 - acc: 0.9316 - val_loss: 0.2695 - val_acc: 0.9266\n",
      "Epoch 19/20\n",
      "60000/60000 [==============================] - 1s - loss: 0.2527 - acc: 0.9311 - val_loss: 0.2683 - val_acc: 0.9275\n",
      "Epoch 20/20\n",
      "60000/60000 [==============================] - 1s - loss: 0.2523 - acc: 0.9322 - val_loss: 0.2710 - val_acc: 0.9275\n"
     ]
    }
   ],
   "source": [
    "epochs = 20\n",
    "batch_size = 128\n",
    "history = model.fit(x_train, y_train, batch_size=batch_size, epochs=epochs, verbose=1, validation_data=(x_test, y_test))"
   ]
  },
  {
   "cell_type": "markdown",
   "metadata": {},
   "source": [
    "## 評価\n",
    "　それでは最後に、出来上がった人工知能モデルが、どれだけ優秀なのかを評価しましょう。 出来上がった人工知能モデルに検証用データ (x_test と y_test )を与えて、正解率を求めて評価します。"
   ]
  },
  {
   "cell_type": "code",
   "execution_count": 9,
   "metadata": {},
   "outputs": [
    {
     "name": "stdout",
     "output_type": "stream",
     "text": [
      " 9344/10000 [===========================>..] - ETA: 0s\n",
      "Test loss: 0.271047073504\n",
      "Test accuracy: 0.9275\n"
     ]
    }
   ],
   "source": [
    "score = model.evaluate(x_test, y_test, verbose=1)\n",
    "print()\n",
    "print('Test loss:', score[0])\n",
    "print('Test accuracy:', score[1])"
   ]
  },
  {
   "cell_type": "markdown",
   "metadata": {},
   "source": [
    "accuracy とは日本語で「正確さ」という意味で、今回の場合であれば「画像を認識できる確率」を表しています。"
   ]
  },
  {
   "cell_type": "markdown",
   "metadata": {},
   "source": [
    "## 学習経過の可視化\n",
    "　ここまでで、人工知能のモデルの作成と評価は完了です。 結果として、0.92 と言うスコアを持つ賢さの人工知能を作り出すことができました。 さて、気になるのは「成果のある学習が行えたのか？ 学習して賢くなったのか？」ということではないでしょうか。 学習を繰り返すたびに賢くなっていることが、視覚的にわかるととても安心できます。\n",
    "\n",
    "　上で実行した model.fit() の戻り値 history から、学習経過を可視化することができます。 history には学習状況が格納されており、次のようなものを含んでいます。\n",
    "\n",
    "　**loss** : loss は日本語で**損失**と訳されます。 ここでの loss は、学習用データで学習を終えた際の「損失」の値です。 値の意味としては、小さい数字ほど正しい結果を出せるように学習できたことを表し、逆に値が大きい場合は正しい結果を出せていないことを表します。\n",
    " \n",
    "　** val_loss** : val_loss は、検証用データを与えて試した際に、どれだけ正しい結果を出せたのかということを表します。 値が小さいほど正しい結果を出せ、値が大きいほど正しい結果をだせていないことを表します。\n",
    "\n",
    "　総じて、loss は学習状況を示す指標となる数字だと覚えておけばよいでしょう。\n",
    "\n",
    "| 項目 | 概要 |\n",
    "|:----|:----|\n",
    "| loss | 学習用データを与えた際の損失値。 簡単にいうと、この値が小さければ小さいほど賢くなったことを表し、逆に値が大きければ学習が不十分だということを表します。 |\n",
    "| val_loss | 検証データを与えた際の損失値。 意味は loss 同様。 |\n",
    "\n",
    "　この loss と val_loss の値を二次元グラフにして表示してみます。 縦軸には loss の値を、横軸には学習回数(ここでは20回学習させている)を割り当てて、学習ごとの loss と val_loss をグラフにしてみます。"
   ]
  },
  {
   "cell_type": "code",
   "execution_count": 10,
   "metadata": {},
   "outputs": [
    {
     "data": {
      "image/png": "[encoded data removed]",
      "text/plain": [
       "<matplotlib.figure.Figure at 0xec44ba8>"
      ]
     },
     "metadata": {},
     "output_type": "display_data"
    }
   ],
   "source": [
    "loss     = history.history['loss']\n",
    "val_loss = history.history['val_loss']\n",
    "\n",
    "nb_epoch = len(loss)\n",
    "plt.plot(range(nb_epoch), loss,     marker='.', label='loss')\n",
    "plt.plot(range(nb_epoch), val_loss, marker='.', label='val_loss')\n",
    "plt.legend(loc='best', fontsize=10)\n",
    "plt.grid()\n",
    "plt.xlabel('epoch')\n",
    "plt.ylabel('loss')\n",
    "plt.show()"
   ]
  },
  {
   "cell_type": "markdown",
   "metadata": {},
   "source": [
    "　生成されたグラフからは、次のようなことがわかります。\n",
    "\n",
    "  - loss が徐々に下がっており、学習用データによる学習は順調に行われたようにみえる。\n",
    "  - 実際の検証においては、最初の数回の検証においては val_loss が徐々にさがっており、学習が効果があったことがわかる。しかし、5回目くらい以降の検証では val_loss が横ばいとなっている。\n",
    "\n",
    "　このことから、じつは5回目くらい以上の学習は、あまり効果がなかったかもしれません。 学校のテストに例えると「試験勉強はたくさんやって知識が増えたが、実際の試験では勉強した分だけの点数を取れなかった」ということかもしれません。 もし、もっと高いスコアを目指したいのであれば、今回の学習方法よりも良い学習方法を取り入れないといけないのかもしれません。 本稿で作成したモデルは、とても初歩的でシンプルなモデルでした。 人工知能に関する学習をすすめ、もっと良いモデルを作れれば、もっと賢い・ハイスコアを出せるかもしれません。"
   ]
  },
  {
   "cell_type": "markdown",
   "metadata": {},
   "source": [
    "## まとめ\n",
    "　今回は、人工知能ライブラリ **Keras** を利用した MNIST データの学習について解説しました。 ここで解説したモデルは、とても初歩的でシンプルなモデルです。 ぜひ様々なモデルの作り方を知って、人工知能の知識を深めていってください。"
   ]
  }
 ],
 "metadata": {
  "kernelspec": {
   "display_name": "Python 3",
   "language": "python",
   "name": "python3"
  },
  "language_info": {
   "codemirror_mode": {
    "name": "ipython",
    "version": 3
   },
   "file_extension": ".py",
   "mimetype": "text/x-python",
   "name": "python",
   "nbconvert_exporter": "python",
   "pygments_lexer": "ipython3",
   "version": "3.5.4"
  }
 },
 "nbformat": 4,
 "nbformat_minor": 2
}
